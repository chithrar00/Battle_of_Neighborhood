{
 "cells": [
  {
   "cell_type": "markdown",
   "metadata": {},
   "source": [
    "# Introduction"
   ]
  },
  {
   "cell_type": "markdown",
   "metadata": {},
   "source": [
    "The aim of the project was to analyze different data sets especially the crime data\n",
    "set to start with – analyze and find a safe and crime free zone in Vancouver for a\n",
    "new grocery shop businessman to start his new venture.\n",
    "I will be using specific data science tools to analyse data and focus on the safest\n",
    "borough by clustering, grouping and exploring its boroughs and then finding the\n",
    "10 most common venues and choose the borough where we find grocery as the\n",
    "least common venue.\n",
    "Based on definition of our problem, factors that will influence our decision are: \n",
    " finding the safest borough based on crime statistics\n",
    " finding the most common venues\n",
    " choosing the right neighbourhood within the borough\n",
    " We will be using the geographical coordinates of Vancouver to plot\n",
    "neighbourhoods in a borough that is safe and in the city's vicinity, and\n",
    "finally cluster our neighborhoods and present our findings."
   ]
  },
  {
   "cell_type": "markdown",
   "metadata": {},
   "source": [
    "# Data"
   ]
  },
  {
   "cell_type": "markdown",
   "metadata": {},
   "source": [
    "Data sources used are mentioned below :\n",
    "1. Dataset from Kaggle containing the Vancouver Crimes from 2003 to 2019\n",
    "2. List of officially categorized boroughs in Vancouver from Wikipedia.\n",
    "3. Creating new dataset of the Neighborhoods, along with their boroughs,\n",
    "crime data and the respective Neighbourhood's co-ordinates using geocoder\n",
    "4. Fetching neighbourhood coordinates using Foursquare"
   ]
  },
  {
   "cell_type": "markdown",
   "metadata": {},
   "source": [
    "# Result"
   ]
  },
  {
   "cell_type": "markdown",
   "metadata": {},
   "source": [
    "The objective of the business problem was to help stakeholders identify one of the safest borough in Vancouver, and an appropriate neighborhood within the borough to set up a commercial establishment especially a Grocery store. This has been achieved by first making use of Vancouver crime data to identify a safe borugh with considerable number of neighborhood for any business to be viable. After selecting the borough it was imperative to choose the right neighborhood where grocery shops were not among venues in a close proximity to each other. We achieved this by grouping the neighborhoods into clusters to assist the stakeholders by providing them with relavent data about venues and safety of a given neighborhood."
   ]
  },
  {
   "cell_type": "markdown",
   "metadata": {},
   "source": [
    "# Conclusion"
   ]
  },
  {
   "cell_type": "code",
   "execution_count": null,
   "metadata": {},
   "outputs": [],
   "source": []
  }
 ],
 "metadata": {
  "kernelspec": {
   "display_name": "Python",
   "language": "python",
   "name": "conda-env-python-py"
  },
  "language_info": {
   "codemirror_mode": {
    "name": "ipython",
    "version": 3
   },
   "file_extension": ".py",
   "mimetype": "text/x-python",
   "name": "python",
   "nbconvert_exporter": "python",
   "pygments_lexer": "ipython3",
   "version": "3.6.10"
  }
 },
 "nbformat": 4,
 "nbformat_minor": 4
}
